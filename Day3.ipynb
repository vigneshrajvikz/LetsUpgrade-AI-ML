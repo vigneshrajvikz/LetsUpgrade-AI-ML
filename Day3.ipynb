{
  "nbformat": 4,
  "nbformat_minor": 0,
  "metadata": {
    "colab": {
      "name": "Day3.ipynb",
      "provenance": []
    },
    "kernelspec": {
      "name": "python3",
      "display_name": "Python 3"
    }
  },
  "cells": [
    {
      "cell_type": "markdown",
      "metadata": {
        "id": "2wSk_H4iySLG",
        "colab_type": "text"
      },
      "source": [
        "1) Write a program to subtract two complex numbers in Python."
      ]
    },
    {
      "cell_type": "code",
      "metadata": {
        "id": "GH4EgYzWyO3P",
        "colab_type": "code",
        "colab": {
          "base_uri": "https://localhost:8080/",
          "height": 35
        },
        "outputId": "0901a58b-bdce-4c39-b95b-42d5f76f3f78"
      },
      "source": [
        "j=2\n",
        "print(\"Addition of two complex numbers : \",(6+3j)+(3-2j))"
      ],
      "execution_count": 2,
      "outputs": [
        {
          "output_type": "stream",
          "text": [
            "Addition of two complex numbers :  (9+1j)\n"
          ],
          "name": "stdout"
        }
      ]
    },
    {
      "cell_type": "markdown",
      "metadata": {
        "id": "_LU6Oq19zZqV",
        "colab_type": "text"
      },
      "source": [
        "2) Write a program to find the fourth root of a number."
      ]
    },
    {
      "cell_type": "code",
      "metadata": {
        "id": "Eo2-xGYGypjT",
        "colab_type": "code",
        "colab": {
          "base_uri": "https://localhost:8080/",
          "height": 35
        },
        "outputId": "3a278271-6e57-4de5-d15e-a63366cd735b"
      },
      "source": [
        "n=6\n",
        "\n",
        "print('Fourth root of a number is ',n**4 )"
      ],
      "execution_count": 3,
      "outputs": [
        {
          "output_type": "stream",
          "text": [
            "Fourth root of a number is  1296\n"
          ],
          "name": "stdout"
        }
      ]
    },
    {
      "cell_type": "markdown",
      "metadata": {
        "id": "oDUia7m60O_C",
        "colab_type": "text"
      },
      "source": [
        "3) Write a program to swap two numbers in Python with the help of a temporary variable.\n"
      ]
    },
    {
      "cell_type": "code",
      "metadata": {
        "id": "o6c3AnsKzy3b",
        "colab_type": "code",
        "colab": {
          "base_uri": "https://localhost:8080/",
          "height": 52
        },
        "outputId": "9c0ea135-04fb-4321-a847-45bdb94dceca"
      },
      "source": [
        "a = 5\n",
        "b = 10\n",
        "\n",
        "temp = a\n",
        "a = b\n",
        "b = temp\n",
        "\n",
        "print('The value of a after swapping is:',a)\n",
        "print('The value of b after swapping is:', b)"
      ],
      "execution_count": 7,
      "outputs": [
        {
          "output_type": "stream",
          "text": [
            "The value of a after swapping is: 10\n",
            "The value of b after swapping is: 5\n"
          ],
          "name": "stdout"
        }
      ]
    },
    {
      "cell_type": "markdown",
      "metadata": {
        "id": "FfLuFNPs0emN",
        "colab_type": "text"
      },
      "source": [
        "4) Write a program to swap two numbers in Python without using a temporary variable.\n"
      ]
    },
    {
      "cell_type": "code",
      "metadata": {
        "id": "7zoMqIus0NvM",
        "colab_type": "code",
        "colab": {
          "base_uri": "https://localhost:8080/",
          "height": 52
        },
        "outputId": "4a943708-02e6-4805-c762-18a5a9710e83"
      },
      "source": [
        "a = 10\n",
        "b = 5\n",
        "   \n",
        "a=a+b\n",
        "b=a-b  \n",
        "a=a-b\n",
        "print('The value of a after swapping is:',a)\n",
        "print('The value of b after swapping is:', b)"
      ],
      "execution_count": 8,
      "outputs": [
        {
          "output_type": "stream",
          "text": [
            "The value of a after swapping is: 5\n",
            "The value of b after swapping is: 10\n"
          ],
          "name": "stdout"
        }
      ]
    },
    {
      "cell_type": "markdown",
      "metadata": {
        "id": "3Ul54bhw1d6h",
        "colab_type": "text"
      },
      "source": [
        "5) Write a program to convert fahrenheit to kelvin and celsius both.\n"
      ]
    },
    {
      "cell_type": "code",
      "metadata": {
        "id": "nUqrSpMd1fdq",
        "colab_type": "code",
        "colab": {
          "base_uri": "https://localhost:8080/",
          "height": 35
        },
        "outputId": "0f571c8b-32d4-432a-96ad-5926faac9718"
      },
      "source": [
        "F=90\n",
        "k = 273.5 + ((F - 32.0) * (5.0/9.0)) \n",
        "print('Temperature in Kelvin ( K ) is ', k)"
      ],
      "execution_count": 11,
      "outputs": [
        {
          "output_type": "stream",
          "text": [
            "Temperature in Kelvin ( K ) is  305.72222222222223\n"
          ],
          "name": "stdout"
        }
      ]
    },
    {
      "cell_type": "markdown",
      "metadata": {
        "id": "47Q4V4cu11On",
        "colab_type": "text"
      },
      "source": [
        "6) Write a program to demonstrate all the available data types in Python. Hint: Use type() function.\n"
      ]
    },
    {
      "cell_type": "code",
      "metadata": {
        "id": "LtF97HN610p_",
        "colab_type": "code",
        "colab": {
          "base_uri": "https://localhost:8080/",
          "height": 87
        },
        "outputId": "f035ebe5-a639-4a52-8e18-6df8fdc5e1e6"
      },
      "source": [
        "a = 10\n",
        "print(type(a))\n",
        "\n",
        "b= 10.2\n",
        "print(type(b))\n",
        "\n",
        "c= 'vignesh'\n",
        "print(type(c))\n",
        "\n",
        "d= True\n",
        "print(type(d))"
      ],
      "execution_count": 15,
      "outputs": [
        {
          "output_type": "stream",
          "text": [
            "<class 'int'>\n",
            "<class 'float'>\n",
            "<class 'str'>\n",
            "<class 'bool'>\n"
          ],
          "name": "stdout"
        }
      ]
    }
  ]
}